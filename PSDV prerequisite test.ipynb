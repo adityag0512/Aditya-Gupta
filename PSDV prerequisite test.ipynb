{
 "cells": [
  {
   "cell_type": "markdown",
   "id": "75395abf-7939-40da-bb50-4a8fd2eebe90",
   "metadata": {},
   "source": [
    "1. list Operations and Basic Statistics"
   ]
  },
  {
   "cell_type": "code",
   "execution_count": 5,
   "id": "58adc2c0-11aa-45d8-bec6-271627c82343",
   "metadata": {},
   "outputs": [
    {
     "name": "stdout",
     "output_type": "stream",
     "text": [
      "Sum of even numbers is 110\n",
      "Product of odd numbers is 654729075\n",
      "Mean of numbers is 10.5\n",
      "Median of numbers is 10.5\n",
      "Standard deviation is 5.766281297335398\n"
     ]
    }
   ],
   "source": [
    "lis = list(range(1,21)) # to make a list of first 20 natural numbers\n",
    "\n",
    "even_sum = 0\n",
    "odd_sum = 0\n",
    "odd_product = 1\n",
    "for i in lis:\n",
    "  if i%2 == 0:\n",
    "    even_sum += i\n",
    "  else:\n",
    "    odd_product *= i\n",
    "\n",
    "print(\"Sum of even numbers is\",even_sum)\n",
    "print(\"Product of odd numbers is\", odd_product)\n",
    "# to calculate sum of even numbers and product of odd numbers\n",
    "\n",
    "def mean(lis):\n",
    "  sum = 0\n",
    "  for i in lis:\n",
    "    sum += i\n",
    "  return sum/len(lis)\n",
    "print(\"Mean of numbers is\", mean(lis))\n",
    "\n",
    "\n",
    "def median(lis):\n",
    "  lis.sort()\n",
    "  if len(lis)%2 != 0:\n",
    "    return lis[(len(lis)//2)]\n",
    "  else:\n",
    "    return (lis[(len(lis)//2)] + lis[(len(lis)//2)-1])/2\n",
    "print(\"Median of numbers is\", median(lis))\n",
    "  \n",
    "\n",
    "sqaures_sum = 0\n",
    "for i in lis:\n",
    "  sqaures_sum += i**2\n",
    "variance = (sqaures_sum/20) - ((mean(lis))**2)\n",
    "sd = variance**0.5\n",
    "print(\"Standard deviation is\", sd)\n",
    "\n",
    "\n"
   ]
  },
  {
   "cell_type": "markdown",
   "id": "0e39722c",
   "metadata": {},
   "source": [
    "2. Mutable vs. Immutable Data Types"
   ]
  },
  {
   "cell_type": "markdown",
   "id": "c3f79cc1",
   "metadata": {},
   "source": [
    "Mutable data types are those which can be modified after they are created. Examples of this data type are lists and dictionaries as values can be created or edited in these using attributes like list.append(), list.pop() etc.\n",
    "\n",
    "Immutable data types cannot be modified once they are created. Examples of this are strings and tuples which donot have the attributes mentioned above."
   ]
  },
  {
   "cell_type": "markdown",
   "id": "ab81362a",
   "metadata": {},
   "source": [
    "3. Fibonacci Sequence"
   ]
  },
  {
   "cell_type": "code",
   "execution_count": 15,
   "id": "3771b77d",
   "metadata": {},
   "outputs": [
    {
     "name": "stdout",
     "output_type": "stream",
     "text": [
      "[0, 1, 1, 2]\n"
     ]
    }
   ],
   "source": [
    "def fibo_list(n):\n",
    "  fibo = 1\n",
    "  fibo_list = [0]\n",
    "  for i in range(n-1):\n",
    "    fibo_list.append(fibo)\n",
    "    fibo += fibo_list[i]\n",
    "  return fibo_list\n",
    "\n",
    "x = int(input())\n",
    "print(fibo_list(x))\n",
    "\n",
    "\n"
   ]
  },
  {
   "cell_type": "markdown",
   "id": "8795e547",
   "metadata": {},
   "source": [
    "4. List Manipulation"
   ]
  },
  {
   "cell_type": "code",
   "execution_count": 6,
   "id": "5c132e40",
   "metadata": {},
   "outputs": [
    {
     "name": "stdout",
     "output_type": "stream",
     "text": [
      "Final list is [13, 11, 9, 6, 5, 3]\n",
      "Mean is 7.833333333333333\n",
      "Median is 7.5\n"
     ]
    }
   ],
   "source": [
    "sample_list = [3, 5, 7, 9, 11, 13]\n",
    "sample_list.insert(3,6)\n",
    "sample_list.remove(7)\n",
    "sample_list.reverse()\n",
    "print(\"Final list is\", sample_list)\n",
    "print(\"Mean is\", mean(sample_list))\n",
    "print(\"Median is\", median(sample_list))"
   ]
  },
  {
   "cell_type": "markdown",
   "id": "5c68b848",
   "metadata": {},
   "source": [
    "5) User Input and Basic Statistics"
   ]
  },
  {
   "cell_type": "code",
   "execution_count": 8,
   "id": "2b09304c",
   "metadata": {},
   "outputs": [
    {
     "name": "stdout",
     "output_type": "stream",
     "text": [
      "Mean is 30.0\n",
      "Smallest number: 10\n",
      "Largest number: 50\n"
     ]
    }
   ],
   "source": [
    "list1 = list(map(int, input().split(',')))\n",
    "print(\"Mean is\", mean(list1))\n",
    "\n",
    "list1.sort()\n",
    "print(\"Smallest number:\", list1[0])\n",
    "print(\"Largest number:\", list1[-1])"
   ]
  },
  {
   "cell_type": "markdown",
   "id": "fe677bb2",
   "metadata": {},
   "source": [
    "6. Palindrome Check"
   ]
  },
  {
   "cell_type": "code",
   "execution_count": 17,
   "id": "eb59b4a5",
   "metadata": {},
   "outputs": [
    {
     "name": "stdout",
     "output_type": "stream",
     "text": [
      "True\n"
     ]
    }
   ],
   "source": [
    "str1 = input()\n",
    "str1 = str1.replace(' ', '')\n",
    "str1 = str1.lower()\n",
    "\n",
    "\n",
    "if str1 == str1[::-1]:\n",
    "  print(True)\n",
    "else:\n",
    "  print(False)"
   ]
  },
  {
   "cell_type": "markdown",
   "id": "316fc380",
   "metadata": {},
   "source": [
    "7. Dictionary Operations"
   ]
  },
  {
   "cell_type": "code",
   "execution_count": 18,
   "id": "a7446ee4",
   "metadata": {},
   "outputs": [
    {
     "name": "stdout",
     "output_type": "stream",
     "text": [
      "92.77777777777777\n",
      "Aditya\n",
      "Dhruv\n",
      "Divyansh\n",
      "Aryan\n",
      "Kartik\n"
     ]
    }
   ],
   "source": [
    "marks_dict = {\"Aditya\" : 95, \"Dhruv\" : 96, \"Divyansh\" : 93, \"Yash\" : 92, \"Aryan\" : 93, \"Arpit\" : 90, \"Yuvraj\" : 91, 'Raghav' : 92, \"Kartik\" : 93}\n",
    "# making a list of marks to compute their average\n",
    "marks_list = list(marks_dict.values())\n",
    "\n",
    "av_marks = mean(marks_list)\n",
    "print(av_marks)\n",
    "\n",
    "for i in marks_dict:\n",
    "    if marks_dict[i]>= av_marks:\n",
    "        print(i)"
   ]
  },
  {
   "cell_type": "markdown",
   "id": "0c589e38",
   "metadata": {},
   "source": [
    "8. Tuple List Creation"
   ]
  },
  {
   "cell_type": "code",
   "execution_count": 1,
   "id": "72cc0a22",
   "metadata": {},
   "outputs": [
    {
     "name": "stdout",
     "output_type": "stream",
     "text": [
      "[(1, 1), (2, 4), (3, 9), (4, 16), (5, 25), (6, 36), (7, 49), (8, 64), (9, 81), (10, 100)]\n"
     ]
    }
   ],
   "source": [
    "sq_list = [(x,x*x)for x in range(1,11)]\n",
    "print(sq_list)"
   ]
  },
  {
   "cell_type": "markdown",
   "id": "817fb3bc",
   "metadata": {},
   "source": [
    "9. Merging Dictionaries"
   ]
  },
  {
   "cell_type": "code",
   "execution_count": 20,
   "id": "d4913a8a",
   "metadata": {},
   "outputs": [
    {
     "name": "stdout",
     "output_type": "stream",
     "text": [
      "{'a': 1, 'b': 2, 'c': 3, 'd': 4, 'e': 5, 'f': 7, 'g': 9, 'h': 3, 'i': 4, 'j': 5}\n"
     ]
    }
   ],
   "source": [
    "d1 = {'a' : 1, 'b' : 2, 'c' : 3, 'd' : 4, 'e' : 5, 'f' : 6, 'g' : 7}\n",
    "d2 = {'f' : 1, 'g' : 2, 'h' : 3, 'i' : 4, 'j' : 5}\n",
    "\n",
    "\n",
    "d3 = d1.copy()\n",
    "\n",
    "for i in d2:\n",
    "  if i in d3:\n",
    "    d3[i] += d2[i]\n",
    "  else:\n",
    "    d3[i] = d2[i]\n",
    "\n",
    "print(d3)"
   ]
  },
  {
   "cell_type": "markdown",
   "id": "d67cf053",
   "metadata": {},
   "source": [
    "10. Character Frequency"
   ]
  },
  {
   "cell_type": "code",
   "execution_count": 21,
   "id": "007d7593",
   "metadata": {},
   "outputs": [
    {
     "name": "stdout",
     "output_type": "stream",
     "text": [
      "{'y': 1, 'r': 1, 'a': 10, 'd': 4, 'm': 2, 'u': 1, 'h': 1, 'i': 6, 't': 5, 'n': 4, 'e': 1, 'g': 2, 's': 1}\n"
     ]
    }
   ],
   "source": [
    "def freq_count(str1):\n",
    "  \n",
    "  str1 = str1.lower()\n",
    "  set1 = set(str1)\n",
    "  \n",
    "\n",
    "  freq = {}\n",
    "  for i in set1:\n",
    "    freq[i] = str1.count(i)\n",
    "\n",
    "  if ' ' in freq:\n",
    "    del freq[' ']\n",
    "\n",
    "  return freq\n",
    "  \n",
    "print(freq_count(input()))"
   ]
  },
  {
   "cell_type": "markdown",
   "id": "5a47fd9e",
   "metadata": {},
   "source": [
    "11. Remove Duplicates"
   ]
  },
  {
   "cell_type": "code",
   "execution_count": 2,
   "id": "c7741085",
   "metadata": {},
   "outputs": [
    {
     "name": "stdout",
     "output_type": "stream",
     "text": [
      "[1, 3, 4, 5, 7, 8, 9, 10]\n"
     ]
    }
   ],
   "source": [
    "orig_list = [1, 1, 3, 4, 5, 7, 7, 8, 8, 8, 9, 10]\n",
    "unique_list = []\n",
    "for i in orig_list:\n",
    "  if i not in unique_list:\n",
    "    unique_list.append(i)\n",
    "\n",
    "print(unique_list)"
   ]
  },
  {
   "cell_type": "markdown",
   "id": "abb536c0",
   "metadata": {},
   "source": [
    "12. String Operations"
   ]
  },
  {
   "cell_type": "code",
   "execution_count": 26,
   "id": "7b7c634d",
   "metadata": {},
   "outputs": [
    {
     "name": "stdout",
     "output_type": "stream",
     "text": [
      "Longest string is: strawberry\n",
      "Number of strings starting with vowel: 2\n"
     ]
    }
   ],
   "source": [
    "str_list = [\"mango\", \"apple\", \"banana\", \"orange\", \"grape\", \"kiwi\", \"peach\", \"strawberry\", \"pineapple\", \"watermelon\"]\n",
    "len_list = sorted(str_list, key = len, reverse = True)\n",
    "print('Longest string is:', len_list[0])\n",
    "\n",
    "count = 0\n",
    "for i in str_list:\n",
    "    if i.startswith(('a', 'e', 'i', 'o', 'u')):\n",
    "      count += 1\n",
    "\n",
    "print(f\"Number of strings starting with vowel: {count}\")"
   ]
  },
  {
   "cell_type": "markdown",
   "id": "781a932b",
   "metadata": {},
   "source": [
    "13. Sorting Dictionaries"
   ]
  },
  {
   "cell_type": "code",
   "execution_count": 22,
   "id": "ac6c048d",
   "metadata": {},
   "outputs": [
    {
     "name": "stdout",
     "output_type": "stream",
     "text": [
      "[{'name': 'Bhavya', 'age': 21}, {'name': 'Bob', 'age': 22}, {'name': 'Aditya', 'age': 23}, {'name': 'Akshat', 'age': 24}, {'name': 'Alice', 'age': 25}, {'name': 'Anmol', 'age': 28}]\n"
     ]
    }
   ],
   "source": [
    "data = [{'name': 'Alice', 'age': 25}, {'name': 'Bob', 'age': 22}, {'name': 'Aditya', 'age': 23}, {'name': 'Akshat', 'age': 24}, {'name': 'Anmol', 'age': 28}, {'name': 'Bhavya', 'age': 21}]\n",
    "\n",
    "sorted_data = sorted(data, key=lambda x: x['age'])\n",
    "print(sorted_data)"
   ]
  },
  {
   "cell_type": "markdown",
   "id": "d2ac6362",
   "metadata": {},
   "source": [
    "14. Word Filtering and Sorting"
   ]
  },
  {
   "cell_type": "code",
   "execution_count": 23,
   "id": "b29e6844",
   "metadata": {},
   "outputs": [
    {
     "name": "stdout",
     "output_type": "stream",
     "text": [
      "['around', 'earth', 'revolves', 'round']\n"
     ]
    }
   ],
   "source": [
    "words_string = \"the earth is round and it revolves around the sun\"\n",
    "\n",
    "words_list = words_string.split()\n",
    "words_list1 = []\n",
    "for i in words_list:\n",
    "  if len(i)>=4:\n",
    "    words_list1.append(i)\n",
    "\n",
    "(words_list1.sort())\n",
    "print(words_list1)"
   ]
  },
  {
   "cell_type": "markdown",
   "id": "c2183806",
   "metadata": {},
   "source": [
    "15. Anagram Finder"
   ]
  },
  {
   "cell_type": "code",
   "execution_count": 24,
   "id": "eb903fc7",
   "metadata": {},
   "outputs": [
    {
     "name": "stdout",
     "output_type": "stream",
     "text": [
      "['enlist', 'inlets', 'silent']\n"
     ]
    }
   ],
   "source": [
    "word = \"listen\"\n",
    "words = [\"enlist\", \"google\", \"inlets\", \"banana\", \"silent\", \"apple\"]\n",
    "anagrams = []\n",
    "\n",
    "for i in words:\n",
    "    for j in i:\n",
    "        if j not in word:\n",
    "            break\n",
    "    else:\n",
    "        anagrams.append(i)\n",
    "\n",
    "\n",
    "print(anagrams)\n",
    "\n"
   ]
  },
  {
   "cell_type": "markdown",
   "id": "e8f61078",
   "metadata": {},
   "source": [
    "16. Set Operations"
   ]
  },
  {
   "cell_type": "code",
   "execution_count": 25,
   "id": "0aa94f1b",
   "metadata": {},
   "outputs": [
    {
     "name": "stdout",
     "output_type": "stream",
     "text": [
      "Intersection is: ['Sweden', 'Ireland']\n",
      "Unions is: ['India', 'Sweden', 'Germany', 'Italy', 'Japan', 'USA', 'Ireland', 'France', 'UK']\n",
      "Symmertic Difference is: ['Germany', 'India', 'Italy', 'Japan', 'USA', 'France', 'UK']\n"
     ]
    }
   ],
   "source": [
    "list1 = [\"India\", \"USA\", \"UK\", \"France\", \"Sweden\", \"Ireland\"]\n",
    "list2 = [\"Germany\", \"Italy\", \"Japan\", \"Sweden\", \"Ireland\"]\n",
    "\n",
    "set1 = set(list1)\n",
    "set2 = set(list2)\n",
    "\n",
    "union_set = set1.union(set2)\n",
    "intersection_set = set1.intersection(set2)\n",
    "symdiff_set = set1.symmetric_difference(set2)\n",
    "\n",
    "union_list = list(union_set)\n",
    "intersection_list = list(intersection_set)\n",
    "symdiff_list = list(symdiff_set)\n",
    "\n",
    "print(\"Intersection is:\", intersection_list)\n",
    "print(\"Unions is:\", union_list)\n",
    "print(\"Symmertic Difference is:\", symdiff_list)"
   ]
  },
  {
   "cell_type": "markdown",
   "id": "cd056708",
   "metadata": {},
   "source": [
    "17. File Operations"
   ]
  },
  {
   "cell_type": "code",
   "execution_count": 9,
   "id": "f4ae6894",
   "metadata": {},
   "outputs": [
    {
     "name": "stdout",
     "output_type": "stream",
     "text": [
      "sum: 190\n"
     ]
    }
   ],
   "source": [
    "f=open(\"file.txt\",\"w\")\n",
    "for i in range(20):\n",
    "  f.write(str(i)+\"\\n\")\n",
    "f.flush()\n",
    "f.close()\n",
    "\n",
    "f=open(\"file.txt\",\"r\")\n",
    "\n",
    "try:\n",
    "  total=0\n",
    "  while True:\n",
    "    line=f.readline()\n",
    "    \n",
    "    num=int(line)\n",
    "    total+=num\n",
    "except:\n",
    "  f.close()\n",
    "print(\"sum:\",total)"
   ]
  },
  {
   "cell_type": "markdown",
   "id": "75c7bc78",
   "metadata": {},
   "source": [
    "18. Word Count and Frequency"
   ]
  },
  {
   "cell_type": "code",
   "execution_count": 11,
   "id": "ffc9155e",
   "metadata": {},
   "outputs": [
    {
     "name": "stdout",
     "output_type": "stream",
     "text": [
      "we\n"
     ]
    }
   ],
   "source": [
    "def mode(lis):\n",
    "    mode = None\n",
    "    set1 = set(lis)\n",
    "    for i in set1:\n",
    "        if lis.count(i) > lis.count(mode):\n",
    "            mode = i\n",
    "    return mode\n",
    "\n",
    "f = open(\"words.txt\" , \"r\")\n",
    "content = f.read()\n",
    "content = content.replace(\".\", \"\").replace(\",\",\"\")\n",
    "words = content.split()\n",
    "print(mode(words))"
   ]
  },
  {
   "cell_type": "markdown",
   "id": "f31652c4",
   "metadata": {},
   "source": [
    "19. Random Number Generation"
   ]
  },
  {
   "cell_type": "code",
   "execution_count": 12,
   "id": "3f4879ef",
   "metadata": {},
   "outputs": [
    {
     "name": "stdout",
     "output_type": "stream",
     "text": [
      "Mean: 26.11\n"
     ]
    }
   ],
   "source": [
    "import random\n",
    "f=open(\"file1.txt\",\"w\")\n",
    "for i in range(100):\n",
    "  f.write(str(random.randint(1,51))+\"\\n\")\n",
    "f.flush()\n",
    "f.close()\n",
    "\n",
    "f = open(\"file1.txt\", \"r\")\n",
    "numbers = []\n",
    "try:\n",
    "  while True:\n",
    "    numbers.append(int(f.readline()))\n",
    "except:\n",
    "  f.close()\n",
    "\n",
    "print(\"Mean:\", mean(numbers))\n",
    "\n",
    "    "
   ]
  },
  {
   "cell_type": "markdown",
   "id": "c1dac28b",
   "metadata": {},
   "source": [
    "21. Basic Statistics"
   ]
  },
  {
   "cell_type": "code",
   "execution_count": 27,
   "id": "50c370f4",
   "metadata": {},
   "outputs": [
    {
     "name": "stdout",
     "output_type": "stream",
     "text": [
      "The mean is: 4.166666666666667\n",
      "The median is: 4.0\n",
      "The mode is: 1\n",
      "The standard deviation is: 2.6509956200978104\n"
     ]
    }
   ],
   "source": [
    "nums_list = [2, 3, 1, 2, 6, 4, 1, 1, 7, 9, 5, 2, 9, 4, 1, 5, 6, 7]\n",
    "\n",
    "def mode(lis):\n",
    "    mode = None\n",
    "    set1 = set(lis)\n",
    "    for i in set1:\n",
    "        if lis.count(i) > lis.count(mode):\n",
    "            mode = i\n",
    "    return mode\n",
    "\n",
    "sq_sum = 0\n",
    "for i in nums_list:\n",
    "    sq_sum += i**2\n",
    "\n",
    "variance = sq_sum/len(nums_list) - mean(nums_list)**2\n",
    "sd = variance**0.5\n",
    "\n",
    "print(\"The mean is:\", mean(nums_list))\n",
    "print(\"The median is:\", median(nums_list))\n",
    "print(\"The mode is:\", mode(nums_list))\n",
    "print(\"The standard deviation is:\", sd)\n"
   ]
  },
  {
   "cell_type": "markdown",
   "id": "a848ae5e",
   "metadata": {},
   "source": [
    "22. Normalization"
   ]
  },
  {
   "cell_type": "code",
   "execution_count": 13,
   "id": "fb264ee6",
   "metadata": {},
   "outputs": [
    {
     "name": "stdout",
     "output_type": "stream",
     "text": [
      "[0.5072463768115942, 0.7681159420289855, 0.057971014492753624, 0.7971014492753623, 0.2028985507246377, 1.0, 0.0, 0.34782608695652173, 0.07246376811594203, 0.8405797101449275]\n"
     ]
    }
   ],
   "source": [
    "l=[56,74,25,76,35,90,21,45,26,79]\n",
    "max_l=max(l)\n",
    "min_l=min(l)\n",
    "\n",
    "normalised=[]\n",
    "\n",
    "for i in l:\n",
    "    num=(i-min_l)/(max_l-min_l)\n",
    "    normalised.append(num)\n",
    "print(normalised)"
   ]
  },
  {
   "cell_type": "markdown",
   "id": "f059a864",
   "metadata": {},
   "source": [
    "23. Even or Odd"
   ]
  },
  {
   "cell_type": "code",
   "execution_count": 1,
   "id": "3586f8d8",
   "metadata": {},
   "outputs": [
    {
     "name": "stdout",
     "output_type": "stream",
     "text": [
      "Odd number\n"
     ]
    }
   ],
   "source": [
    "n = int(input())\n",
    "\n",
    "if n%2 == 0:\n",
    "    print(\"Even number\")\n",
    "else:\n",
    "    print(\"Odd number\")"
   ]
  },
  {
   "cell_type": "markdown",
   "id": "cda668e6",
   "metadata": {},
   "source": [
    "24. Grade Calculator"
   ]
  },
  {
   "cell_type": "code",
   "execution_count": 3,
   "id": "94b632f8",
   "metadata": {},
   "outputs": [
    {
     "name": "stdout",
     "output_type": "stream",
     "text": [
      "Grade B\n"
     ]
    }
   ],
   "source": [
    "marks = int(input())\n",
    "\n",
    "if marks>= 90:\n",
    "    print(\"Grade A\")\n",
    "elif 80<=marks<90:\n",
    "    print(\"Grade B\")\n",
    "elif 70<=marks<80:\n",
    "    print(\"Grade C\")\n",
    "elif 60<=marks<70:\n",
    "    print(\"Grade D\")\n",
    "else:\n",
    "    print(\"Grade F\")"
   ]
  },
  {
   "cell_type": "markdown",
   "id": "b6351876",
   "metadata": {},
   "source": [
    "25. Leap Year Checker"
   ]
  },
  {
   "cell_type": "code",
   "execution_count": 4,
   "id": "8587d47b",
   "metadata": {},
   "outputs": [
    {
     "name": "stdout",
     "output_type": "stream",
     "text": [
      "Not a leap year\n"
     ]
    }
   ],
   "source": [
    "year = int(input())\n",
    "def is_leap(x):\n",
    "    if x%400 == 0:\n",
    "        return True\n",
    "    elif x%100 == 0:\n",
    "        return False\n",
    "    elif x%4 == 0:\n",
    "        return True\n",
    "    else:\n",
    "        return False\n",
    "    \n",
    "if is_leap(year):\n",
    "    print(\"Leap year\")\n",
    "else:\n",
    "    print(\"Not a leap year\")"
   ]
  }
 ],
 "metadata": {
  "kernelspec": {
   "display_name": "Python 3 (ipykernel)",
   "language": "python",
   "name": "python3"
  },
  "language_info": {
   "codemirror_mode": {
    "name": "ipython",
    "version": 3
   },
   "file_extension": ".py",
   "mimetype": "text/x-python",
   "name": "python",
   "nbconvert_exporter": "python",
   "pygments_lexer": "ipython3",
   "version": "3.12.4"
  }
 },
 "nbformat": 4,
 "nbformat_minor": 5
}
